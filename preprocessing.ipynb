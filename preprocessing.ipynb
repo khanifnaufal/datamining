{
 "cells": [
  {
   "cell_type": "code",
   "execution_count": 1,
   "id": "06ec8029-8f1a-4052-b160-3f74551a9faf",
   "metadata": {},
   "outputs": [],
   "source": [
    "import numpy as np\n",
    "import matplotlib.pyplot as plt\n",
    "import pandas as pd"
   ]
  },
  {
   "cell_type": "markdown",
   "id": "aa1ef2d1-323c-478e-b403-0ae08290cff2",
   "metadata": {},
   "source": [
    "Numpy merupakan library python untuk komputasi matriks Matplotlib merupakan library python untuk presentasi data berupa grafik/plot Pandas untuk mengimport data dari luar seperti csv"
   ]
  },
  {
   "cell_type": "code",
   "execution_count": 2,
   "id": "9f952b26-5054-4fbf-be4d-a66d1189c90a",
   "metadata": {},
   "outputs": [],
   "source": [
    "dataset = pd.read_csv('D:/kuliah/kuliah/PenambanganData/LatihanPreprocessing.csv') # memanggil file csv menggunakan pandas\n",
    "\n",
    "# membagi menjadi variabel x (country, salary, age)\n",
    "x = dataset.iloc[:,:-1].values # mengambil semua kecuali yg terakhir\n",
    "y = dataset.iloc[:,-1].values # mengambil record terakhir (purchase)"
   ]
  },
  {
   "cell_type": "code",
   "execution_count": 3,
   "id": "22281f62-1e8b-4826-9ec8-ef7e980f823c",
   "metadata": {},
   "outputs": [
    {
     "name": "stdout",
     "output_type": "stream",
     "text": [
      "[[1 'Pati' 13 3000000]\n",
      " [2 'Semarang' 13 3000000]\n",
      " [3 'Kudus' 13 3000000]\n",
      " [4 'Pati' 13 3000000]\n",
      " [5 'Semarang' 13 3000000]\n",
      " [6 'Kudus' 13 3000000]\n",
      " [7 'Pati' 13 3000000]\n",
      " [8 'Semarang' 13 3000000]\n",
      " [9 'Kudus' 13 3000000]\n",
      " [10 'Pati' 13 3000000]]\n"
     ]
    }
   ],
   "source": [
    "print(x)"
   ]
  },
  {
   "cell_type": "code",
   "execution_count": 4,
   "id": "9a32ebed-9711-4fe9-9af1-07946fdf4f7d",
   "metadata": {},
   "outputs": [
    {
     "name": "stdout",
     "output_type": "stream",
     "text": [
      "['Yes' 'No' 'No' 'Yes' 'No' 'Yes' 'Yes' 'No' 'Yes' 'No']\n"
     ]
    }
   ],
   "source": [
    "print(y)"
   ]
  },
  {
   "cell_type": "code",
   "execution_count": null,
   "id": "42c8105b-dd85-4ace-a86e-2bc78f35c109",
   "metadata": {},
   "outputs": [],
   "source": [
    "# untuk memanggil fungsi utk menggunakan nilai rata2 dari kolom\n",
    "from sklearn.impute import SimpleImputer\n",
    "# deteksi missing values (nan) dgn library np, ganti strategy dgn rata2\n",
    "imputer = SimpleImputer(missing_values=np.nan, strategy='mean')\n",
    "imputer.fit(x[:,1:3]) # fit kan\n",
    "x[:,1:3] = imputer.transform(x[:,1:3]) # transformkan"
   ]
  },
  {
   "cell_type": "code",
   "execution_count": 6,
   "id": "483063f4-8808-4538-a411-8b23190874ba",
   "metadata": {},
   "outputs": [
    {
     "name": "stdout",
     "output_type": "stream",
     "text": [
      "[[1 'Pati' 13 3000000]\n",
      " [2 'Semarang' 13 3000000]\n",
      " [3 'Kudus' 13 3000000]\n",
      " [4 'Pati' 13 3000000]\n",
      " [5 'Semarang' 13 3000000]\n",
      " [6 'Kudus' 13 3000000]\n",
      " [7 'Pati' 13 3000000]\n",
      " [8 'Semarang' 13 3000000]\n",
      " [9 'Kudus' 13 3000000]\n",
      " [10 'Pati' 13 3000000]]\n"
     ]
    }
   ],
   "source": [
    "print(x)"
   ]
  },
  {
   "cell_type": "code",
   "execution_count": 7,
   "id": "eb0c3d72-bce6-4643-85c5-219dad7ecb35",
   "metadata": {},
   "outputs": [],
   "source": [
    "# mengubah (encoding) data nominal mjd matriks agar bs melakukan komputasi\n",
    "# panggil lib dr sklearn menggunakan ColumnTransformer\n",
    "from sklearn.compose import ColumnTransformer\n",
    "# menggunakan func OneHotEncoder utk mematrikskan\n",
    "from sklearn.preprocessing import OneHotEncoder\n",
    "ct = ColumnTransformer(transformers=[('encoder',OneHotEncoder(), [0])], remainder='passthrough')\n",
    "x = np.array(ct.fit_transform(x)) #ubah format mjd array dgn numpy"
   ]
  },
  {
   "cell_type": "code",
   "execution_count": 8,
   "id": "1672d296-e3d9-4978-b149-a2016aa934df",
   "metadata": {},
   "outputs": [
    {
     "name": "stdout",
     "output_type": "stream",
     "text": [
      "[[1.0 0.0 0.0 0.0 0.0 0.0 0.0 0.0 0.0 0.0 'Pati' 13 3000000]\n",
      " [0.0 1.0 0.0 0.0 0.0 0.0 0.0 0.0 0.0 0.0 'Semarang' 13 3000000]\n",
      " [0.0 0.0 1.0 0.0 0.0 0.0 0.0 0.0 0.0 0.0 'Kudus' 13 3000000]\n",
      " [0.0 0.0 0.0 1.0 0.0 0.0 0.0 0.0 0.0 0.0 'Pati' 13 3000000]\n",
      " [0.0 0.0 0.0 0.0 1.0 0.0 0.0 0.0 0.0 0.0 'Semarang' 13 3000000]\n",
      " [0.0 0.0 0.0 0.0 0.0 1.0 0.0 0.0 0.0 0.0 'Kudus' 13 3000000]\n",
      " [0.0 0.0 0.0 0.0 0.0 0.0 1.0 0.0 0.0 0.0 'Pati' 13 3000000]\n",
      " [0.0 0.0 0.0 0.0 0.0 0.0 0.0 1.0 0.0 0.0 'Semarang' 13 3000000]\n",
      " [0.0 0.0 0.0 0.0 0.0 0.0 0.0 0.0 1.0 0.0 'Kudus' 13 3000000]\n",
      " [0.0 0.0 0.0 0.0 0.0 0.0 0.0 0.0 0.0 1.0 'Pati' 13 3000000]]\n"
     ]
    }
   ],
   "source": [
    "print(x)"
   ]
  },
  {
   "cell_type": "code",
   "execution_count": 9,
   "id": "f99f40bc-ac1a-4ab0-b5bd-ff1134e0296d",
   "metadata": {},
   "outputs": [],
   "source": [
    "# mengubah label dr yes/no mjd numerik 0 1\n",
    "from sklearn.preprocessing import LabelEncoder\n",
    "le = LabelEncoder()\n",
    "y = le.fit_transform(y)"
   ]
  },
  {
   "cell_type": "code",
   "execution_count": 10,
   "id": "88e273bd-54fd-4771-85fd-e4c23d486858",
   "metadata": {},
   "outputs": [
    {
     "name": "stdout",
     "output_type": "stream",
     "text": [
      "[1 0 0 1 0 1 1 0 1 0]\n"
     ]
    }
   ],
   "source": [
    "print(y)"
   ]
  },
  {
   "cell_type": "code",
   "execution_count": 11,
   "id": "540ff2ce-fb46-4735-bf2b-b5dab4666d60",
   "metadata": {},
   "outputs": [],
   "source": [
    "# membagi dataset ke dalam training dan testing\n",
    "from sklearn.model_selection import train_test_split\n",
    "#data testing 20% sisanya training\n",
    "x_train, x_test, y_train, y_test = train_test_split(x,y,test_size=0.2,random_state=1)"
   ]
  },
  {
   "cell_type": "code",
   "execution_count": 12,
   "id": "109ad6b8-b3d1-4dc7-84c6-6f36039ab4b3",
   "metadata": {},
   "outputs": [
    {
     "name": "stdout",
     "output_type": "stream",
     "text": [
      "[[0.0 0.0 0.0 0.0 0.0 0.0 1.0 0.0 0.0 0.0 'Pati' 13 3000000]\n",
      " [0.0 0.0 0.0 0.0 1.0 0.0 0.0 0.0 0.0 0.0 'Semarang' 13 3000000]\n",
      " [1.0 0.0 0.0 0.0 0.0 0.0 0.0 0.0 0.0 0.0 'Pati' 13 3000000]\n",
      " [0.0 0.0 0.0 1.0 0.0 0.0 0.0 0.0 0.0 0.0 'Pati' 13 3000000]\n",
      " [0.0 1.0 0.0 0.0 0.0 0.0 0.0 0.0 0.0 0.0 'Semarang' 13 3000000]\n",
      " [0.0 0.0 0.0 0.0 0.0 0.0 0.0 1.0 0.0 0.0 'Semarang' 13 3000000]\n",
      " [0.0 0.0 0.0 0.0 0.0 0.0 0.0 0.0 1.0 0.0 'Kudus' 13 3000000]\n",
      " [0.0 0.0 0.0 0.0 0.0 1.0 0.0 0.0 0.0 0.0 'Kudus' 13 3000000]]\n"
     ]
    }
   ],
   "source": [
    "print(x_train)"
   ]
  },
  {
   "cell_type": "code",
   "execution_count": 13,
   "id": "b3229a0c-8015-4585-8b9a-fb79f1062d47",
   "metadata": {},
   "outputs": [
    {
     "name": "stdout",
     "output_type": "stream",
     "text": [
      "[[0.0 0.0 1.0 0.0 0.0 0.0 0.0 0.0 0.0 0.0 'Kudus' 13 3000000]\n",
      " [0.0 0.0 0.0 0.0 0.0 0.0 0.0 0.0 0.0 1.0 'Pati' 13 3000000]]\n"
     ]
    }
   ],
   "source": [
    "print(x_test)"
   ]
  },
  {
   "cell_type": "code",
   "execution_count": 14,
   "id": "d34b1382-616f-401e-9170-5200f7234bc3",
   "metadata": {},
   "outputs": [
    {
     "name": "stdout",
     "output_type": "stream",
     "text": [
      "[1 0 1 1 0 0 1 1]\n"
     ]
    }
   ],
   "source": [
    "print(y_train)"
   ]
  },
  {
   "cell_type": "code",
   "execution_count": 15,
   "id": "be743e48-08c6-4da6-a520-628d75b48d38",
   "metadata": {},
   "outputs": [
    {
     "name": "stdout",
     "output_type": "stream",
     "text": [
      "[0 0]\n"
     ]
    }
   ],
   "source": [
    "print(y_test)"
   ]
  },
  {
   "cell_type": "markdown",
   "id": "d5784d34-1102-4486-a27f-a1c21c82c0f5",
   "metadata": {},
   "source": [
    "Data training nantinya akan digunakan untuk melatih algoritma dalam mencari model yang sesuai, sedangkan data testing akan dipakai untuk menguji dan mengetahui performa model yang didapatkan pada tahapan testing."
   ]
  },
  {
   "cell_type": "code",
   "execution_count": null,
   "id": "80931a10-ac60-4328-a490-d0d773a1c473",
   "metadata": {},
   "outputs": [],
   "source": [
    "# skala dr umur\n",
    "# standar scaler\n",
    "\n",
    "from sklearn.preprocessing import StandardScaler\n",
    "sc = StandardScaler()\n",
    "\n",
    "# ambil dari semua record mulai dari record ke 3\n",
    "x_train[:,3:] = sc.fit_transform(x_train[:,3:])\n",
    "x_test[:, 3:] = sc.transform(x_test[:,3:])\n",
    "     "
   ]
  },
  {
   "cell_type": "code",
   "execution_count": 17,
   "id": "40a139ea-8bdd-447b-b4ae-b88c5fb82057",
   "metadata": {},
   "outputs": [
    {
     "name": "stdout",
     "output_type": "stream",
     "text": [
      "[[0.0 0.0 0.0 0.0 0.0 0.0 1.0 0.0 0.0 0.0 'Pati' 13 3000000]\n",
      " [0.0 0.0 0.0 0.0 1.0 0.0 0.0 0.0 0.0 0.0 'Semarang' 13 3000000]\n",
      " [1.0 0.0 0.0 0.0 0.0 0.0 0.0 0.0 0.0 0.0 'Pati' 13 3000000]\n",
      " [0.0 0.0 0.0 1.0 0.0 0.0 0.0 0.0 0.0 0.0 'Pati' 13 3000000]\n",
      " [0.0 1.0 0.0 0.0 0.0 0.0 0.0 0.0 0.0 0.0 'Semarang' 13 3000000]\n",
      " [0.0 0.0 0.0 0.0 0.0 0.0 0.0 1.0 0.0 0.0 'Semarang' 13 3000000]\n",
      " [0.0 0.0 0.0 0.0 0.0 0.0 0.0 0.0 1.0 0.0 'Kudus' 13 3000000]\n",
      " [0.0 0.0 0.0 0.0 0.0 1.0 0.0 0.0 0.0 0.0 'Kudus' 13 3000000]]\n"
     ]
    }
   ],
   "source": [
    "\n",
    "print(x_train)"
   ]
  },
  {
   "cell_type": "code",
   "execution_count": 18,
   "id": "e7578687-75a1-4b94-a0e5-c5f2825e3cc9",
   "metadata": {},
   "outputs": [
    {
     "name": "stdout",
     "output_type": "stream",
     "text": [
      "[[0.0 0.0 1.0 0.0 0.0 0.0 0.0 0.0 0.0 0.0 'Kudus' 13 3000000]\n",
      " [0.0 0.0 0.0 0.0 0.0 0.0 0.0 0.0 0.0 1.0 'Pati' 13 3000000]]\n"
     ]
    }
   ],
   "source": [
    "print(x_test)\n",
    "     "
   ]
  },
  {
   "cell_type": "code",
   "execution_count": null,
   "id": "ce8fc4d7-e5ae-42a7-bc8e-ebaf1b7a8aec",
   "metadata": {},
   "outputs": [],
   "source": []
  }
 ],
 "metadata": {
  "kernelspec": {
   "display_name": "Python 3 (ipykernel)",
   "language": "python",
   "name": "python3"
  },
  "language_info": {
   "codemirror_mode": {
    "name": "ipython",
    "version": 3
   },
   "file_extension": ".py",
   "mimetype": "text/x-python",
   "name": "python",
   "nbconvert_exporter": "python",
   "pygments_lexer": "ipython3",
   "version": "3.12.0"
  }
 },
 "nbformat": 4,
 "nbformat_minor": 5
}
